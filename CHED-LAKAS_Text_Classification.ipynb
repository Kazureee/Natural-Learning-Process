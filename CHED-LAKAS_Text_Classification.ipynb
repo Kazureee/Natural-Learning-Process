{
 "cells": [
  {
   "cell_type": "markdown",
   "id": "3e5c72a2",
   "metadata": {},
   "source": [
    "## Text Processing\n",
    "This cell code is a summarization of the previous text preprocessing activity"
   ]
  },
  {
   "cell_type": "code",
   "execution_count": 78,
   "id": "ff1c73d3",
   "metadata": {},
   "outputs": [
    {
     "name": "stderr",
     "output_type": "stream",
     "text": [
      "[nltk_data] Downloading package punkt to /Users/jagoodkid/nltk_data...\n",
      "[nltk_data]   Package punkt is already up-to-date!\n"
     ]
    }
   ],
   "source": [
    "import pandas as pd\n",
    "import re\n",
    "import numpy as np\n",
    "import nltk\n",
    "from nltk.tokenize import word_tokenize\n",
    "nltk.download('punkt') \n",
    "#File path\n",
    "df = pd.read_csv('data_supervised.csv', error_bad_lines= False)\n",
    "#drop null values\n",
    "df.dropna(inplace=True)\n",
    "filename = 'english_words.txt'\n",
    "with open(filename, 'r') as file:\n",
    "    stop_words = file.read().splitlines()\n",
    "filename = 'tagalog_stop_words.txt'\n",
    "with open(filename, 'r') as file:\n",
    "    tagalog_words = file.read().splitlines()\n",
    "stop_words.extend(tagalog_words)\n",
    "def preprocess_data(article):\n",
    "    stopwords=stop_words\n",
    "    article = str(article).lower()\n",
    "    article = re.sub(\"[^a-zA-Z0-9\\s]\",'',article)\n",
    "    temp_final =[]\n",
    "    for word in article.split():\n",
    "        if word =='' or '\\r\\n' in word or word in stop_words:\n",
    "            None\n",
    "        else:\n",
    "            temp_final.append(word)\n",
    "    return word_tokenize(' '.join(temp_final))\n",
    "df['Article_processed'] = df['Article'].apply(preprocess_data)"
   ]
  },
  {
   "cell_type": "code",
   "execution_count": 11,
   "id": "656d90db",
   "metadata": {},
   "outputs": [],
   "source": [
    "%%capture\n",
    "#Check first 5 instances\n",
    "df.head()"
   ]
  },
  {
   "cell_type": "markdown",
   "id": "4c9437f0",
   "metadata": {},
   "source": [
    "# Supervised Machine Learning\n",
    "In this activity, you will step into the shoes of a data scientist and work on building a Filipino news classifier using the power of Support Vector Machines (SVM). The goal is to create a program that can automatically categorize Filipino news articles into different topics, such as politics, entertainment, sports, and more. This will help you understand how SVM works in text classification tasks and how it can be applied to real-world scenarios."
   ]
  },
  {
   "cell_type": "code",
   "execution_count": 7,
   "id": "a93495ab",
   "metadata": {},
   "outputs": [],
   "source": [
    "#Importing countvectorizer\n",
    "from sklearn.feature_extraction.text import CountVectorizer"
   ]
  },
  {
   "cell_type": "markdown",
   "id": "bfa66de3",
   "metadata": {},
   "source": [
    "#### We just imported CountVectorizer\n",
    "Count Vectorizer is a fundamental technique used in natural language processing (NLP) to convert text data into numerical form that machine learning algorithms, like Support Vector Machines (SVM), can understand and work with. It's a way to represent text as a collection of word counts. Let's break it down:"
   ]
  },
  {
   "cell_type": "code",
   "execution_count": 19,
   "id": "1a27be99",
   "metadata": {},
   "outputs": [],
   "source": [
    "#Creating a CountVectorizer model\n",
    "df['Article'] = df['Article_processed']\n",
    "bow_transformer= CountVectorizer(analyzer=preprocess_data).fit(df['Article'])"
   ]
  },
  {
   "cell_type": "code",
   "execution_count": 20,
   "id": "657a937b",
   "metadata": {},
   "outputs": [
    {
     "name": "stdout",
     "output_type": "stream",
     "text": [
      "66783\n"
     ]
    }
   ],
   "source": [
    "#Print number of vocabulary/words\n",
    "print(len(bow_transformer.vocabulary_))"
   ]
  },
  {
   "cell_type": "code",
   "execution_count": 27,
   "id": "b4942652",
   "metadata": {},
   "outputs": [],
   "source": [
    "%%capture\n",
    "#trying the countvectorizer for a single instance\n",
    "artc3=df['Article'][2]\n",
    "bow3=bow_transformer.transform([artc3])\n",
    "print(bow3)"
   ]
  },
  {
   "cell_type": "markdown",
   "id": "5dba3da3",
   "metadata": {},
   "source": [
    "\n",
    "### 1.  Now try it with the whole Dataset"
   ]
  },
  {
   "cell_type": "code",
   "execution_count": 22,
   "id": "71874cb8",
   "metadata": {},
   "outputs": [],
   "source": [
    "#Enter code here, name it as article_bow\n",
    "article_bow=bow_transformer.transform(df['Article'])"
   ]
  },
  {
   "cell_type": "code",
   "execution_count": 29,
   "id": "767dbdce",
   "metadata": {},
   "outputs": [],
   "source": [
    "#Import TFIDF\n",
    "from sklearn.feature_extraction.text import TfidfTransformer\n",
    "#Making an instance of this transformer\n",
    "tfidf_transformer=TfidfTransformer().fit(article_bow)"
   ]
  },
  {
   "cell_type": "markdown",
   "id": "ee52c2e9",
   "metadata": {},
   "source": [
    "### TF-IDF\n",
    "stands for Term Frequency-Inverse Document Frequency. It's a technique used in natural language processing (NLP) to help understand the importance of words in a collection of documents. Let's break it down:\n",
    "\n",
    "#### Term Frequency (TF):\n",
    "Imagine you have a document (like an article or a book). Term Frequency is the number of times a specific word appears in that document. It helps us know which words are important in that particular document.\n",
    "\n",
    "#### Inverse Document Frequency (IDF):\n",
    "Now, think about all the documents you have in your collection. Inverse Document Frequency measures how unique or rare a word is across all those documents. It tells us which words are special and not common in the entire collection.\n",
    "\n",
    "#### Combining TF and IDF - TF-IDF:\n",
    "TF-IDF combines Term Frequency and Inverse Document Frequency. It helps us understand how significant a word is in a particular document compared to its significance in the entire collection. If a word appears a lot in a document but is rare in the whole collection, its TF-IDF value will be high for that document.\n",
    "\n",
    "#### Why Use TF-IDF?\n",
    "Imagine you're analyzing a bunch of articles about cats. The word \"cat\" might appear a lot in all of them, but words like \"purr\" or \"kitten\" might appear less frequently. TF-IDF helps us identify these less common, more interesting words that give a document its unique character."
   ]
  },
  {
   "cell_type": "code",
   "execution_count": 53,
   "id": "5bc97e3a",
   "metadata": {},
   "outputs": [],
   "source": [
    "#Just to get what it looks like for a single article\n",
    "tfidf3=tfidf_transformer.transform(bow3)"
   ]
  },
  {
   "cell_type": "code",
   "execution_count": 54,
   "id": "bb437589",
   "metadata": {},
   "outputs": [],
   "source": [
    "%%capture\n",
    "#transforming a simple word count into a tfidf \n",
    "print(tfidf3)"
   ]
  },
  {
   "cell_type": "code",
   "execution_count": 55,
   "id": "03268623",
   "metadata": {},
   "outputs": [
    {
     "data": {
      "text/plain": [
       "2.931136870164136"
      ]
     },
     "execution_count": 55,
     "metadata": {},
     "output_type": "execute_result"
    }
   ],
   "source": [
    "#Checking the tfidf of a particular word('Bansa')\n",
    "tfidf_transformer.idf_[bow_transformer.vocabulary_['bansa']]"
   ]
  },
  {
   "cell_type": "markdown",
   "id": "cb012253",
   "metadata": {},
   "source": [
    "### Now try to check the tfidf of word \"manila\""
   ]
  },
  {
   "cell_type": "code",
   "execution_count": 56,
   "id": "c5952acb",
   "metadata": {},
   "outputs": [],
   "source": [
    "#Enter code here\n",
    "tfidf_transformer.idf_[bow_transformer.vocabulary_['manila']]"
   ]
  },
  {
   "cell_type": "code",
   "execution_count": 57,
   "id": "231db998",
   "metadata": {},
   "outputs": [],
   "source": [
    "#Convert the entire bag of words corpus into a tfidf corpus at once\n",
    "article_tfidf=tfidf_transformer.transform(article_bow)"
   ]
  },
  {
   "cell_type": "markdown",
   "id": "6db0a6c9",
   "metadata": {},
   "source": [
    "## Training dataset\n",
    "Training a dataset is a crucial step in building machine learning models like the Filipino news classifier using Support Vector Machines (SVM). Training helps the model learn and understand the patterns in the data. "
   ]
  },
  {
   "cell_type": "code",
   "execution_count": 58,
   "id": "4cd1939c",
   "metadata": {},
   "outputs": [],
   "source": [
    "from sklearn.model_selection import train_test_split"
   ]
  },
  {
   "cell_type": "code",
   "execution_count": 59,
   "id": "9e1a8864",
   "metadata": {},
   "outputs": [],
   "source": [
    "article_train,article_test,category_train,category_test=train_test_split(df['Article'],df['Category'],test_size=0.25)"
   ]
  },
  {
   "cell_type": "markdown",
   "id": "c1434396",
   "metadata": {},
   "source": [
    "### 3. Now, try to make an instance where the test size is 30%"
   ]
  },
  {
   "cell_type": "code",
   "execution_count": 60,
   "id": "7c642936",
   "metadata": {},
   "outputs": [],
   "source": [
    "#Enter your answer here\n",
    "article_train,article_test,category_train,category_test=train_test_split(df['Article'],df['Category'],test_size=0.3)"
   ]
  },
  {
   "cell_type": "code",
   "execution_count": 46,
   "id": "ff48a88a",
   "metadata": {},
   "outputs": [],
   "source": [
    "#lets import SVM\n",
    "from sklearn.linear_model import SGDClassifier"
   ]
  },
  {
   "cell_type": "markdown",
   "id": "b55f27ca",
   "metadata": {},
   "source": [
    "### Support Vector Machine\n",
    "SVM figures out the best way to draw separator lines based on the numerical fingerprints of the articles. It's like finding the patterns that separate politics from entertainment and sports from technology."
   ]
  },
  {
   "cell_type": "code",
   "execution_count": 65,
   "id": "affc34b6",
   "metadata": {},
   "outputs": [],
   "source": [
    "from sklearn.pipeline import Pipeline"
   ]
  },
  {
   "cell_type": "code",
   "execution_count": 67,
   "id": "c859fedb",
   "metadata": {},
   "outputs": [],
   "source": [
    "#think of the pipeline as the steps or methods on a task\n",
    "text_clf_svm = Pipeline([('vect', CountVectorizer(analyzer=preprocess_data)),\n",
    "                      ('tfidf', TfidfTransformer()),\n",
    "                      ('clf-svm', SGDClassifier(loss='hinge', penalty='l2',\n",
    "                                            alpha=1e-3, random_state=42)),\n",
    " ])"
   ]
  },
  {
   "cell_type": "markdown",
   "id": "2f05620f",
   "metadata": {},
   "source": [
    "### loss: [‘hinge’, ‘log_loss’, ‘modified_huber’, ‘squared_hinge’, ‘perceptron’, ‘squared_error’, ‘huber’, ‘epsilon_insensitive’, ‘squared_epsilon_insensitive’]\n",
    "### penalty: l1,l2,  elasticnet\n",
    "### alpha: float below 0\n",
    "### random state: float"
   ]
  },
  {
   "cell_type": "code",
   "execution_count": 68,
   "id": "3f5c29b8",
   "metadata": {},
   "outputs": [],
   "source": [
    "_=text_clf_svm.fit(df['Article'],df['Category'])"
   ]
  },
  {
   "cell_type": "markdown",
   "id": "7d98fb99",
   "metadata": {},
   "source": [
    "## Evaluation"
   ]
  },
  {
   "cell_type": "code",
   "execution_count": 69,
   "id": "152373a9",
   "metadata": {},
   "outputs": [],
   "source": [
    "from sklearn.metrics import classification_report\n",
    "#predict the test article\n",
    "prediction=text_clf_svm.predict(article_test)"
   ]
  },
  {
   "cell_type": "code",
   "execution_count": 72,
   "id": "e6b3beb5",
   "metadata": {},
   "outputs": [],
   "source": [
    "# Generate a classification report\n",
    "report = classification_report(category_test, prediction)"
   ]
  },
  {
   "cell_type": "code",
   "execution_count": 74,
   "id": "ba65f20c",
   "metadata": {},
   "outputs": [
    {
     "name": "stdout",
     "output_type": "stream",
     "text": [
      "              precision    recall  f1-score   support\n",
      "\n",
      "       Bansa       0.92      0.87      0.89       213\n",
      "       Metro       0.90      0.97      0.94       187\n",
      "     Opinyon       0.97      0.97      0.97       181\n",
      "      Palaro       0.97      1.00      0.99       205\n",
      "  Probinsiya       0.98      0.94      0.96       194\n",
      "     Showbiz       1.00      0.98      0.99       216\n",
      "\n",
      "    accuracy                           0.96      1196\n",
      "   macro avg       0.96      0.96      0.96      1196\n",
      "weighted avg       0.96      0.96      0.96      1196\n",
      "\n"
     ]
    }
   ],
   "source": [
    "print(report)"
   ]
  },
  {
   "cell_type": "code",
   "execution_count": 75,
   "id": "a3d94c5e",
   "metadata": {},
   "outputs": [
    {
     "data": {
      "text/plain": [
       "'Palaro'"
      ]
     },
     "execution_count": 75,
     "metadata": {},
     "output_type": "execute_result"
    }
   ],
   "source": [
    "text_clf_svm.predict([\"James yap, 54 points sa latest na laro ng gilas pilipinas\"])[0]"
   ]
  },
  {
   "cell_type": "markdown",
   "id": "3829c25b",
   "metadata": {},
   "source": [
    "# Answers\n",
    "\n",
    "### 1. article_bow=bow_transformer.transform(df['Article'])\n",
    "### 2. tfidf_transformer.idf_[bow_transformer.vocabulary_['manila']]\n",
    "### 3. article_train,article_test,category_train,category_test=train_test_split(df['Article'],df['Category'],test_size=0.3)"
   ]
  },
  {
   "cell_type": "code",
   "execution_count": null,
   "id": "de9aee5d",
   "metadata": {},
   "outputs": [],
   "source": []
  }
 ],
 "metadata": {
  "kernelspec": {
   "display_name": "Python 3 (ipykernel)",
   "language": "python",
   "name": "python3"
  },
  "language_info": {
   "codemirror_mode": {
    "name": "ipython",
    "version": 3
   },
   "file_extension": ".py",
   "mimetype": "text/x-python",
   "name": "python",
   "nbconvert_exporter": "python",
   "pygments_lexer": "ipython3",
   "version": "3.10.10"
  }
 },
 "nbformat": 4,
 "nbformat_minor": 5
}
