{
 "cells": [
  {
   "cell_type": "markdown",
   "metadata": {
    "id": "EbQZh_FrDAmC"
   },
   "source": [
    "## Activity : Named Entity Recognition (NER using Spacy)  ###\n",
    "---\n",
    "This exercise will give demonstrate how NLTK can be used to extract NER from documents. it will also give the participants some experience in testing and adjusting the parameters of the NLTK NER tools."
   ]
  },
  {
   "cell_type": "markdown",
   "metadata": {
    "id": "muzpwyEb0KSC"
   },
   "source": [
    "### Step 1 : Importing and Loading Spacy\n",
    "---\n",
    "\n",
    "During processing, spaCy first tokenizes the text, i.e. segments it into words, punctuation and so on. This is done by applying rules specific to each language. For example, punctuation at the end of a sentence should be split off – whereas “U.K.” should remain one token. Each Doc consists of individual tokens, and we can iterate over them:"
   ]
  },
  {
   "cell_type": "code",
   "execution_count": 9,
   "metadata": {
    "colab": {
     "base_uri": "https://localhost:8080/"
    },
    "id": "xJd8l4fy0JR2",
    "outputId": "b0d811e9-e859-4cb7-d10f-614d32a5203c"
   },
   "outputs": [],
   "source": [
    "#Enter answer here"
   ]
  },
  {
   "cell_type": "markdown",
   "metadata": {
    "id": "q2wqwCTQzLns"
   },
   "source": [
    "### Step 2 : linguistic annotations in Spacy\n",
    "---\n",
    "spaCy provides a variety of linguistic annotations to give you insights into a text’s grammatical structure. This includes the word types, like the parts of speech, and how the words are related to each other. For example, if you’re analyzing text, it makes a huge difference whether a noun is the subject of a sentence, or the object – or whether “google” is used as a verb, or refers to the website or company in a specific context."
   ]
  },
  {
   "cell_type": "code",
   "execution_count": 10,
   "metadata": {
    "colab": {
     "base_uri": "https://localhost:8080/"
    },
    "id": "0RquTjRyyZ5R",
    "outputId": "24037f92-c173-486d-a33a-73a44eedcc09"
   },
   "outputs": [],
   "source": [
    "#Enter answer here"
   ]
  },
  {
   "cell_type": "markdown",
   "metadata": {
    "id": "UJKKIGCvzRN5"
   },
   "source": [
    "### Step 3 : Tokenization in Spacy\n",
    "---\n",
    "During processing, spaCy first tokenizes the text, i.e. segments it into words, punctuation and so on. This is done by applying rules specific to each language. For example, punctuation at the end of a sentence should be split off – whereas “U.K.” should remain one token. Each Doc consists of individual tokens, and we can iterate over them:"
   ]
  },
  {
   "cell_type": "code",
   "execution_count": 11,
   "metadata": {
    "colab": {
     "base_uri": "https://localhost:8080/"
    },
    "id": "30Q2l9Ebyras",
    "outputId": "545d48e0-056b-4028-d0a8-a01ee95ab4f1"
   },
   "outputs": [],
   "source": [
    "#Enter answer here"
   ]
  },
  {
   "cell_type": "markdown",
   "metadata": {
    "id": "YBc0_g5FzeqI"
   },
   "source": [
    "### Step 4 : Named Entity Recognition using Spacy\n",
    "---\n",
    "A named entity is a “real-world object” that’s assigned a name – for example, a person, a country, a product or a book title. spaCy can recognize various types of named entities in a document, by asking the model for a prediction. Because models are statistical and strongly depend on the examples they were trained on, this doesn’t always work perfectly and might need some tuning later, depending on your use case.\n",
    "\n",
    "Named entities are available as the ents property of a Doc:"
   ]
  },
  {
   "cell_type": "code",
   "execution_count": 12,
   "metadata": {
    "id": "AsVSd9173Qgp"
   },
   "outputs": [],
   "source": [
    "#Enter answer here"
   ]
  },
  {
   "cell_type": "code",
   "execution_count": 13,
   "metadata": {
    "colab": {
     "base_uri": "https://localhost:8080/"
    },
    "id": "gYBqSIjCzrmp",
    "outputId": "61ec8064-ac1d-420d-9a54-e7eb5efcaef2"
   },
   "outputs": [],
   "source": [
    "#Enter answer here"
   ]
  },
  {
   "cell_type": "markdown",
   "metadata": {
    "id": "5XvmTb_TEyTW"
   },
   "source": [
    "### Step 5 : Interface for testing Named Entity Recognition using Spacy\n",
    "---\n",
    "\n",
    "Enter a sample text and see if Spacy can identify the embedded NER"
   ]
  },
  {
   "cell_type": "code",
   "execution_count": 14,
   "metadata": {
    "colab": {
     "base_uri": "https://localhost:8080/",
     "height": 667
    },
    "id": "14g8yyi2E-9O",
    "outputId": "d23cd012-56f0-4af8-b926-a2fa94aa8dc6"
   },
   "outputs": [],
   "source": [
    "#Enter answer here"
   ]
  }
 ],
 "metadata": {
  "colab": {
   "collapsed_sections": [],
   "name": "Exercise_Day2_Topic4_2_(NER_using_Spacy).ipynb",
   "provenance": []
  },
  "kernelspec": {
   "display_name": "Python 3 (ipykernel)",
   "language": "python",
   "name": "python3"
  },
  "language_info": {
   "codemirror_mode": {
    "name": "ipython",
    "version": 3
   },
   "file_extension": ".py",
   "mimetype": "text/x-python",
   "name": "python",
   "nbconvert_exporter": "python",
   "pygments_lexer": "ipython3",
   "version": "3.10.10"
  }
 },
 "nbformat": 4,
 "nbformat_minor": 1
}
